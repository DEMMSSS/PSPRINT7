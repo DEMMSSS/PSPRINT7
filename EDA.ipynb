{
 "cells": [
  {
   "cell_type": "code",
   "execution_count": null,
   "id": "114ff626",
   "metadata": {},
   "outputs": [],
   "source": [
    "importar librerias"
   ]
  },
  {
   "cell_type": "code",
   "execution_count": null,
   "id": "cf4094ea",
   "metadata": {},
   "outputs": [],
   "source": [
    "# Import the libraries\n",
    "import pandas as pd\n",
    "import plotly.express as px\n",
    "import matplotlib.pyplot as plt\n",
    "import seaborn as sns"
   ]
  },
  {
   "cell_type": "code",
   "execution_count": null,
   "id": "77851f0e",
   "metadata": {},
   "outputs": [],
   "source": [
    "# Import the dataset\n",
    "df = pd.read_csv('../vehicles_us.csv')"
   ]
  },
  {
   "cell_type": "code",
   "execution_count": null,
   "id": "fb13762c",
   "metadata": {},
   "outputs": [],
   "source": [
    "df.info()"
   ]
  },
  {
   "cell_type": "code",
   "execution_count": null,
   "id": "c5790d83",
   "metadata": {},
   "outputs": [],
   "source": [
    "# Find the number of missing values in each column\n",
    "df.isnull().sum()"
   ]
  },
  {
   "cell_type": "code",
   "execution_count": null,
   "id": "78332ece",
   "metadata": {},
   "outputs": [],
   "source": [
    "df.head(15)"
   ]
  },
  {
   "cell_type": "markdown",
   "id": "c77f6fff",
   "metadata": {},
   "source": [
    "limpieza de datos"
   ]
  },
  {
   "cell_type": "code",
   "execution_count": null,
   "id": "7f72be8b",
   "metadata": {},
   "outputs": [],
   "source": [
    "#created a list of all the columes that the missing values in them should be changed to zero and then cast to int\n",
    "fillna_and_int = ['is_4wd', 'cylinders', 'model_year', 'odometer']\n",
    "for i in fillna_and_int:\n",
    "  df[i] = df[i].fillna(0)\n",
    "  df[i] = df[i].astype(int)\n",
    "\n",
    "# Fill the missing paint color with unknown\n",
    "df[\"paint_color\"] = df[\"paint_color\"].fillna(\"unknown\")\n",
    "  "
   ]
  },
  {
   "cell_type": "code",
   "execution_count": null,
   "id": "6c5882ed",
   "metadata": {},
   "outputs": [],
   "source": [
    "# Fill the cylinder by finding the same car model from the same year and taking information from there\n",
    "def cylinder_check(row):\n",
    "    '''This function will check if the cylinder is missing and if it is it will fill it with the most common cylinder for that car model and year'''\n",
    "    if row[\"cylinders\"] == 0:\n",
    "        cylinder = df.loc[df[\"model\"] == row[\"model\"]].loc[df[\"model_year\"] == row[\"model_year\"]][\"cylinders\"].unique()\n",
    "        for i in range(len(cylinder)):\n",
    "            if cylinder[i] != 0:\n",
    "                return cylinder[i]\n",
    "    return row[\"cylinders\"]\n",
    "\n",
    "df[\"cylinders\"] = df.apply(cylinder_check, axis=1)"
   ]
  },
  {
   "cell_type": "code",
   "execution_count": null,
   "id": "baa0cf38",
   "metadata": {},
   "outputs": [],
   "source": [
    "# Function that fills the odometer values that are equal to zero with the value of the odometer from a similar car\n",
    "def odometer_check(row):\n",
    "    '''This function will check if the odometer is missing and if it is it will fill it with the most common odometer for that car model and year'''\n",
    "    if row[\"odometer\"] == 0:\n",
    "        odometer = df.loc[df[\"model\"] == row[\"model\"]].loc[df[\"model_year\"] == row[\"model_year\"]].loc[df[\"type\"] == row[\"type\"]][\"odometer\"].unique()\n",
    "        for i in range(len(odometer)):\n",
    "            if odometer[i] != 0:\n",
    "                return odometer[i]\n",
    "    return row[\"odometer\"]\n",
    "\n",
    "df[\"odometer\"] = df.apply(odometer_check, axis=1)"
   ]
  },
  {
   "cell_type": "code",
   "execution_count": null,
   "id": "2a308f38",
   "metadata": {},
   "outputs": [],
   "source": [
    "\n",
    "# Function that fills the model year values that are equal to zero with the value of the model year from a similar car\n",
    "def model_year_check(row):\n",
    "    '''This function will check if the model year is missing and if it is it will fill it with the most common model year for that car model and year'''\n",
    "    if row[\"model_year\"] == 0:\n",
    "        model_year = df.loc[df[\"model\"] == row[\"model\"]].loc[df[\"type\"] == row[\"type\"]][\"model_year\"].unique()\n",
    "        for i in range(len(model_year)):\n",
    "            if model_year[i] != 0:\n",
    "                return model_year[i]\n",
    "    return row[\"model_year\"]\n",
    "\n",
    "df[\"model_year\"] = df.apply(model_year_check, axis=1)"
   ]
  },
  {
   "cell_type": "code",
   "execution_count": null,
   "id": "a487ebd0",
   "metadata": {},
   "outputs": [],
   "source": [
    "# Function that finds the most common paint color for each model and fill the missing values with it\n",
    "def paint_color_check(row):\n",
    "    '''This function will check if the paint color is missing and if it is it will fill it with the most common paint color for that car model'''\n",
    "    if row[\"paint_color\"] == \"unknown\":\n",
    "        paint_color = df.loc[df[\"model\"] == row[\"model\"]][\"paint_color\"].unique()\n",
    "        for i in range(len(paint_color)):\n",
    "            if paint_color[i] != \"unknown\":\n",
    "                return paint_color[i]\n",
    "    return row[\"paint_color\"]\n",
    "\n",
    "df[\"paint_color\"] = df.apply(paint_color_check, axis=1)    "
   ]
  },
  {
   "cell_type": "code",
   "execution_count": null,
   "id": "2699aa0e",
   "metadata": {},
   "outputs": [],
   "source": [
    "# Extract the manufacturer from the model and store it in a new column\n",
    "df[\"manufacturer\"] = df[\"model\"].str.split(\" \", n = 1, expand = True)[0]"
   ]
  },
  {
   "cell_type": "code",
   "execution_count": null,
   "id": "aaa9cc40",
   "metadata": {},
   "outputs": [],
   "source": [
    "# Extract the model name from the model and store it in a new column\n",
    "df[\"model_name\"] = df[\"model\"].str.split(\" \", n = 1, expand = True)[1]"
   ]
  },
  {
   "cell_type": "code",
   "execution_count": null,
   "id": "105a52e9",
   "metadata": {},
   "outputs": [],
   "source": [
    "# Delete the model column\n",
    "df.drop(columns=[\"model\"], inplace=True)"
   ]
  },
  {
   "cell_type": "code",
   "execution_count": null,
   "id": "0ccfed0b",
   "metadata": {},
   "outputs": [],
   "source": [
    "# Recheck the data\n",
    "df.info()"
   ]
  },
  {
   "cell_type": "code",
   "execution_count": null,
   "id": "7f318f32",
   "metadata": {},
   "outputs": [],
   "source": [
    "# Boxplot to check for outliers\n",
    "fig, ax = plt.subplots(1, 2, figsize=(20, 5))\n",
    "sns.boxplot(x=df[\"price\"], ax=ax[0])\n",
    "sns.boxplot(x=df[\"odometer\"], ax=ax[1])\n",
    "plt.show()"
   ]
  },
  {
   "cell_type": "code",
   "execution_count": null,
   "id": "b2a42439",
   "metadata": {},
   "outputs": [],
   "source": [
    "# Removing the outliers using the IQR method\n",
    "Q1 = df.quantile(0.25)\n",
    "Q3 = df.quantile(0.75)\n",
    "IQR = Q3 - Q1\n",
    "df = df[~((df < (Q1 - 1.5 * IQR)) |(df > (Q3 + 1.5 * IQR))).any(axis=1)]"
   ]
  },
  {
   "cell_type": "code",
   "execution_count": null,
   "id": "b71c9f67",
   "metadata": {},
   "outputs": [],
   "source": [
    "# Change the date posted values type to datatime \n",
    "df[\"date_posted\"] = pd.to_datetime(df[\"date_posted\"], format='%Y-%m-%d')"
   ]
  },
  {
   "cell_type": "code",
   "execution_count": null,
   "id": "c8212cd0",
   "metadata": {},
   "outputs": [],
   "source": [
    "# Recheck the data\n",
    "df.head(15)"
   ]
  },
  {
   "cell_type": "code",
   "execution_count": null,
   "id": "a0b06e3b",
   "metadata": {},
   "outputs": [],
   "source": [
    "# Export the cleaned dataset\n",
    "df.to_csv('../vehicles_us_cleaned.csv', index=False)"
   ]
  },
  {
   "cell_type": "markdown",
   "id": "755869b3",
   "metadata": {},
   "source": [
    "visualizacion de datos"
   ]
  },
  {
   "cell_type": "code",
   "execution_count": null,
   "id": "8b60c4bf",
   "metadata": {},
   "outputs": [],
   "source": [
    "# Plot histogram of the condition vs year\n",
    "\n",
    "fig = px.histogram(df, x=\"model_year\", color=\"condition\", hover_data=df.columns)\n",
    "fig.show()"
   ]
  },
  {
   "cell_type": "code",
   "execution_count": null,
   "id": "6b297ee0",
   "metadata": {},
   "outputs": [],
   "source": [
    "# Plot the number of cars for each manufacturer\n",
    "fig = px.histogram(df, x=\"manufacturer\", title=\"Number of cars for each manufacturer\")\n",
    "fig.show()"
   ]
  },
  {
   "cell_type": "code",
   "execution_count": null,
   "id": "0ff5ae4b",
   "metadata": {},
   "outputs": [],
   "source": [
    "# Plot the number of cars for each manufacturer\n",
    "fig = px.histogram(df, x=\"manufacturer\", title=\"Number of cars for each manufacturer\")\n",
    "fig.show()"
   ]
  }
 ],
 "metadata": {
  "kernelspec": {
   "display_name": "vehicles_env",
   "language": "python",
   "name": "python3"
  },
  "language_info": {
   "name": "python",
   "version": "3.13.0"
  }
 },
 "nbformat": 4,
 "nbformat_minor": 5
}
